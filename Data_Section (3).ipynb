{
 "cells": [
  {
   "cell_type": "markdown",
   "metadata": {},
   "source": [
    "**Description of the data that will be used to solve the problem**"
   ]
  },
  {
   "cell_type": "markdown",
   "metadata": {},
   "source": [
    "Like stated in the introduction, we will have to break Washington up into different areas within the city. After breaking Washington up into these areas, we can further analyze them for types of venues to determine their similarities to each other. How similar they are will determine which cluster (or \"group\") they get put into. Once you determine which cluster each area belongs to, then you can decide which are the most optimal to place the new restaurant based on the group's criteria.  \n",
    "\n",
    "Our first step is to find location data for the city of Washington, including zip codes, latitudes, and longitudes. We were able to find a free downloadable online source containing location data for all zip codes in the US, the only stipulation being that we had to mention the source providing this data. You can download the same data from https://simplemaps.com/data/us-zips . While the file contains many attributes for each zip code, we will only be focusing on zip code, latitude, longitude, city, county, and state. Using this information, we will then use Foursquare API to see types of venues and specific venues within these zip codes to help determine the clusters. We will also be using K-means classification to determine the optimal number of clusters, as well as the accuracy for each cities relation to the cluster.\n",
    "\n",
    "The analysis of this data will be similar to the analysis done in the Segmenting and Clustering Toronto neighborhoods lab. Gathering all of the location data for a city, clustering the neighborhoods within that city, leveraging Foursquare API to determine number of venues and types of venues within each neighborhood, and using that to determine which cluster each neighborhood belongs in is how we completed that lab and how we will complete this analysis."
   ]
  },
  {
   "cell_type": "code",
   "execution_count": null,
   "metadata": {},
   "outputs": [],
   "source": []
  }
 ],
 "metadata": {
  "kernelspec": {
   "display_name": "Python 3",
   "language": "python",
   "name": "python3"
  },
  "language_info": {
   "codemirror_mode": {
    "name": "ipython",
    "version": 3
   },
   "file_extension": ".py",
   "mimetype": "text/x-python",
   "name": "python",
   "nbconvert_exporter": "python",
   "pygments_lexer": "ipython3",
   "version": "3.7.1"
  }
 },
 "nbformat": 4,
 "nbformat_minor": 2
}
